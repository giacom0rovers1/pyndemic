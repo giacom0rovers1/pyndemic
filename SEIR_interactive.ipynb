{
 "cells": [
  {
   "cell_type": "code",
   "execution_count": 1,
   "metadata": {},
   "outputs": [
    {
     "data": {
      "text/plain": [
       "'\\nCreated on Sun Nov  8 18:10:21 2020\\n\\n@author: giacomo\\n'"
      ]
     },
     "execution_count": 1,
     "metadata": {},
     "output_type": "execute_result"
    }
   ],
   "source": [
    "#!/usr/bin/env python3\n",
    "# -*- coding: utf-8 -*-\n",
    "\"\"\"\n",
    "Created on Sun Nov  8 18:10:21 2020\n",
    "\n",
    "@author: giacomo\n",
    "\"\"\""
   ]
  },
  {
   "cell_type": "code",
   "execution_count": 2,
   "metadata": {},
   "outputs": [],
   "source": [
    "import numpy as np\n",
    "import scipy as sp\n",
    "import pandas as pd\n",
    "from scipy.integrate import odeint, solve_ivp\n",
    "from matplotlib import pyplot as plt\n",
    "from ipywidgets.widgets import interact, IntSlider, FloatSlider, Layout\n",
    "\n",
    "style = {'description_width': '150px'}\n",
    "slider_layout = Layout(width='99%')"
   ]
  },
  {
   "cell_type": "code",
   "execution_count": 3,
   "metadata": {},
   "outputs": [],
   "source": [
    "N = 1e4\n",
    "perc_inf = 0.1\n",
    "days = 1000\n",
    "beta = 0.2\n",
    "tau = 20\n",
    "tar = 10"
   ]
  },
  {
   "cell_type": "code",
   "execution_count": 4,
   "metadata": {},
   "outputs": [],
   "source": [
    "def SEIR(perc_inf, beta, tau, tar, days):\n",
    "    # calculate constants\n",
    "    frac_inf = perc_inf/100\n",
    "    gamma = 1/tau\n",
    "    mu = 1/tar\n",
    "    R0 = beta/mu\n",
    "\n",
    "    y0 = np.array([(1-frac_inf), 0, frac_inf, 0])\n",
    "    y = y0\n",
    "\n",
    "    def ddt(t, y):\n",
    "        return np.array([-beta*y[0]*y[2],                   # ds/dt\n",
    "                         beta*y[0]*y[2] - gamma*y[1],       # de/dt\n",
    "                         gamma*y[1] - mu*y[2],              # di/dt\n",
    "                         mu*y[2]])                          # dr/dt\n",
    "\n",
    "    y = solve_ivp(fun=ddt, t_span=(0, days), y0=y0)\n",
    "\n",
    "    plt.figure()\n",
    "    plt.plot(y.t, y.y.T)\n",
    "    # plt.legend([\"s\", \"e\", \"i\", \"r\"])\n",
    "    plt.legend([\"Susceptible\", \"Exposed\", \"Infected\", \"Recovered\"])\n",
    "    plt.text(0.8*days, 0.9, r'$R_{0}$ ='+str(np.round(R0, 2)))\n",
    "    plt.xlabel('Days')\n",
    "    plt.ylabel('Relative population')\n",
    "\n",
    "    return y, R0"
   ]
  },
  {
   "cell_type": "code",
   "execution_count": 5,
   "metadata": {},
   "outputs": [
    {
     "data": {
      "image/png": "[encoded data removed]",
      "text/plain": [
       "<Figure size 432x288 with 1 Axes>"
      ]
     },
     "metadata": {
      "needs_background": "light"
     },
     "output_type": "display_data"
    }
   ],
   "source": [
    "y, R0 = SEIR(perc_inf, beta, tau, tar, days)\n",
    "\n",
    "g = 1-(1/R0)"
   ]
  },
  {
   "cell_type": "code",
   "execution_count": 6,
   "metadata": {},
   "outputs": [
    {
     "data": {
      "application/vnd.jupyter.widget-view+json": {
       "model_id": "fa65bc9d9a4f44588bc3db168cc7dbf1",
       "version_major": 2,
       "version_minor": 0
      },
      "text/plain": [
       "interactive(children=(FloatSlider(value=0.1, description='Fraction of infected', layout=Layout(width='99%'), m…"
      ]
     },
     "metadata": {},
     "output_type": "display_data"
    },
    {
     "data": {
      "text/plain": [
       "<function __main__.SEIR(perc_inf, beta, tau, tar, days)>"
      ]
     },
     "execution_count": 6,
     "metadata": {},
     "output_type": "execute_result"
    }
   ],
   "source": [
    "interact(SEIR, perc_inf=FloatSlider(min=0, max=5, step=0.01, value=0.1, description='Fraction of infected', style=style, layout=slider_layout),\n",
    "               beta=FloatSlider(min=0, max=0.5, step=0.02, value=0.2, description='Probability of infection', style=style, layout=slider_layout),\n",
    "               tau=IntSlider(min=0, max=30, step=1, value=20, description='Incubation time', style=style, layout=slider_layout),\n",
    "               tar=IntSlider(min=0, max=30, step=1, value=10, description='Recovery time', style=style, layout=slider_layout), \n",
    "               days=IntSlider(min=0, max=1200, step=100, value=900, description='Number of days', style=style, layout=slider_layout))"
   ]
  }
 ],
 "metadata": {
  "kernelspec": {
   "display_name": "Python 3",
   "language": "python",
   "name": "python3"
  },
  "language_info": {
   "codemirror_mode": {
    "name": "ipython",
    "version": 3
   },
   "file_extension": ".py",
   "mimetype": "text/x-python",
   "name": "python",
   "nbconvert_exporter": "python",
   "pygments_lexer": "ipython3",
   "version": "3.8.5"
  }
 },
 "nbformat": 4,
 "nbformat_minor": 4
}
